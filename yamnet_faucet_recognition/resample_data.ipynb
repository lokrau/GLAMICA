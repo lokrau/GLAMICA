{
 "cells": [
  {
   "cell_type": "code",
   "execution_count": null,
   "id": "601ab62c",
   "metadata": {},
   "outputs": [],
   "source": [
    "import os\n",
    "import librosa\n",
    "import soundfile as sf"
   ]
  },
  {
   "cell_type": "code",
   "execution_count": null,
   "id": "7422e83b",
   "metadata": {},
   "outputs": [],
   "source": [
    "# configuration\n",
    "SOURCE_DIR = \"data\"\n",
    "OUTPUT_DIR = \"data_split\"\n",
    "SAMPLE_RATE = 16000\n",
    "SEGMENT_DURATION = 2  # seconds\n",
    "SEGMENT_SAMPLES = SAMPLE_RATE * SEGMENT_DURATION"
   ]
  },
  {
   "cell_type": "code",
   "execution_count": null,
   "id": "dfcd2f3a",
   "metadata": {},
   "outputs": [],
   "source": [
    "# FUNCTIONS\n",
    "# ensure that the path exists\n",
    "def ensure_dir(path):\n",
    "    os.makedirs(path, exist_ok=True)\n",
    "\n",
    "# split audio into segments\n",
    "def split_audio_to_segments(file_path, segment_samples):\n",
    "    audio, sr = librosa.load(file_path, sr=SAMPLE_RATE)\n",
    "    total_segments = len(audio) // segment_samples\n",
    "    segments = [audio[i * segment_samples:(i + 1) * segment_samples] for i in range(total_segments)]\n",
    "    return segments\n",
    "\n",
    "# process a whole directory\n",
    "def process_directory(source_dir, output_dir):\n",
    "    for label in os.listdir(source_dir):\n",
    "        label_path = os.path.join(source_dir, label)\n",
    "        if not os.path.isdir(label_path):\n",
    "            continue\n",
    "\n",
    "        output_label_path = os.path.join(output_dir, label)\n",
    "        ensure_dir(output_label_path)\n",
    "\n",
    "        for filename in os.listdir(label_path):\n",
    "            if not filename.lower().endswith(\".wav\"):\n",
    "                continue\n",
    "\n",
    "            file_path = os.path.join(label_path, filename)\n",
    "            try:\n",
    "                segments = split_audio_to_segments(file_path, SEGMENT_SAMPLES)\n",
    "                for i, segment in enumerate(segments):\n",
    "                    output_filename = f\"{os.path.splitext(filename)[0]}_seg{i}.wav\"\n",
    "                    output_path = os.path.join(output_label_path, output_filename)\n",
    "                    sf.write(output_path, segment, SAMPLE_RATE)\n",
    "            except Exception as e:\n",
    "                print(f\"Failed to process {file_path}: {e}\")"
   ]
  },
  {
   "cell_type": "code",
   "execution_count": null,
   "id": "26c65e94",
   "metadata": {},
   "outputs": [
    {
     "name": "stdout",
     "output_type": "stream",
     "text": [
      "Done splitting all audio into 2-second segments.\n"
     ]
    }
   ],
   "source": [
    "# Run the split\n",
    "process_directory(SOURCE_DIR, OUTPUT_DIR)\n",
    "print(f\"Done splitting all audio into {SEGMENT_DURATION}-second segments.\")"
   ]
  }
 ],
 "metadata": {
  "kernelspec": {
   "display_name": "capstone",
   "language": "python",
   "name": "python3"
  },
  "language_info": {
   "codemirror_mode": {
    "name": "ipython",
    "version": 3
   },
   "file_extension": ".py",
   "mimetype": "text/x-python",
   "name": "python",
   "nbconvert_exporter": "python",
   "pygments_lexer": "ipython3",
   "version": "3.11.9"
  }
 },
 "nbformat": 4,
 "nbformat_minor": 5
}
